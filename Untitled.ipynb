{
 "cells": [
  {
   "cell_type": "code",
   "execution_count": 1,
   "id": "5e128186-1a19-4112-b97a-c625ef26acb1",
   "metadata": {},
   "outputs": [],
   "source": [
    "import pandas as pd"
   ]
  },
  {
   "cell_type": "code",
   "execution_count": 3,
   "id": "6a784fa1-9fa3-4839-87db-24d35639671f",
   "metadata": {},
   "outputs": [],
   "source": [
    "covid_data = pd.read_csv(\"countries-aggregated.csv\")"
   ]
  },
  {
   "cell_type": "code",
   "execution_count": 9,
   "id": "3e30ab1e-0b1c-4e4a-b0c7-464a94d5ea56",
   "metadata": {},
   "outputs": [
    {
     "data": {
      "text/html": [
       "<div>\n",
       "<style scoped>\n",
       "    .dataframe tbody tr th:only-of-type {\n",
       "        vertical-align: middle;\n",
       "    }\n",
       "\n",
       "    .dataframe tbody tr th {\n",
       "        vertical-align: top;\n",
       "    }\n",
       "\n",
       "    .dataframe thead th {\n",
       "        text-align: right;\n",
       "    }\n",
       "</style>\n",
       "<table border=\"1\" class=\"dataframe\">\n",
       "  <thead>\n",
       "    <tr style=\"text-align: right;\">\n",
       "      <th></th>\n",
       "      <th>Date</th>\n",
       "      <th>Country</th>\n",
       "      <th>Confirmed</th>\n",
       "      <th>Recovered</th>\n",
       "      <th>Deaths</th>\n",
       "    </tr>\n",
       "  </thead>\n",
       "  <tbody>\n",
       "    <tr>\n",
       "      <th>0</th>\n",
       "      <td>2020-01-22</td>\n",
       "      <td>Afghanistan</td>\n",
       "      <td>0</td>\n",
       "      <td>0</td>\n",
       "      <td>0</td>\n",
       "    </tr>\n",
       "    <tr>\n",
       "      <th>1</th>\n",
       "      <td>2020-01-23</td>\n",
       "      <td>Afghanistan</td>\n",
       "      <td>0</td>\n",
       "      <td>0</td>\n",
       "      <td>0</td>\n",
       "    </tr>\n",
       "    <tr>\n",
       "      <th>2</th>\n",
       "      <td>2020-01-24</td>\n",
       "      <td>Afghanistan</td>\n",
       "      <td>0</td>\n",
       "      <td>0</td>\n",
       "      <td>0</td>\n",
       "    </tr>\n",
       "    <tr>\n",
       "      <th>3</th>\n",
       "      <td>2020-01-25</td>\n",
       "      <td>Afghanistan</td>\n",
       "      <td>0</td>\n",
       "      <td>0</td>\n",
       "      <td>0</td>\n",
       "    </tr>\n",
       "    <tr>\n",
       "      <th>4</th>\n",
       "      <td>2020-01-26</td>\n",
       "      <td>Afghanistan</td>\n",
       "      <td>0</td>\n",
       "      <td>0</td>\n",
       "      <td>0</td>\n",
       "    </tr>\n",
       "  </tbody>\n",
       "</table>\n",
       "</div>"
      ],
      "text/plain": [
       "         Date      Country  Confirmed  Recovered  Deaths\n",
       "0  2020-01-22  Afghanistan          0          0       0\n",
       "1  2020-01-23  Afghanistan          0          0       0\n",
       "2  2020-01-24  Afghanistan          0          0       0\n",
       "3  2020-01-25  Afghanistan          0          0       0\n",
       "4  2020-01-26  Afghanistan          0          0       0"
      ]
     },
     "execution_count": 9,
     "metadata": {},
     "output_type": "execute_result"
    }
   ],
   "source": [
    "covid_data.head()"
   ]
  },
  {
   "cell_type": "code",
   "execution_count": 7,
   "id": "bf274964-9252-4ea2-8ab3-e60db9a65abf",
   "metadata": {},
   "outputs": [],
   "source": [
    "covid_idx_con = covid_data.set_index(\"Country\")"
   ]
  },
  {
   "cell_type": "code",
   "execution_count": 15,
   "id": "02528595-c38b-4b15-9c84-6b3aabef38b8",
   "metadata": {},
   "outputs": [
    {
     "data": {
      "text/plain": [
       "0         Afghanistan\n",
       "1         Afghanistan\n",
       "2         Afghanistan\n",
       "3         Afghanistan\n",
       "4         Afghanistan\n",
       "             ...     \n",
       "161563       Zimbabwe\n",
       "161564       Zimbabwe\n",
       "161565       Zimbabwe\n",
       "161566       Zimbabwe\n",
       "161567       Zimbabwe\n",
       "Name: Country, Length: 161568, dtype: object"
      ]
     },
     "execution_count": 15,
     "metadata": {},
     "output_type": "execute_result"
    }
   ],
   "source": [
    "covid_data[\"Country\"]"
   ]
  },
  {
   "cell_type": "code",
   "execution_count": 16,
   "id": "a5ce6df0-0342-403c-bd0e-a440e6991855",
   "metadata": {},
   "outputs": [
    {
     "name": "stdout",
     "output_type": "stream",
     "text": [
      "    Name  Age  Score\n",
      "0   Amit   22     85\n",
      "1   Riya   25     67\n",
      "2  Karan   19     90\n",
      "3   Neha   28     76\n"
     ]
    }
   ],
   "source": [
    "data = {\n",
    "    \"Name\": [\"Amit\", \"Riya\", \"Karan\", \"Neha\"],\n",
    "    \"Age\": [22, 25, 19, 28],\n",
    "    \"Score\": [85, 67, 90, 76]\n",
    "}\n",
    "\n",
    "df = pd.DataFrame(data)\n",
    "print(df)"
   ]
  },
  {
   "cell_type": "code",
   "execution_count": null,
   "id": "4f9b1f56-c328-4058-a9a3-86df20bc35d0",
   "metadata": {},
   "outputs": [],
   "source": []
  }
 ],
 "metadata": {
  "kernelspec": {
   "display_name": "Python 3 (ipykernel)",
   "language": "python",
   "name": "python3"
  },
  "language_info": {
   "codemirror_mode": {
    "name": "ipython",
    "version": 3
   },
   "file_extension": ".py",
   "mimetype": "text/x-python",
   "name": "python",
   "nbconvert_exporter": "python",
   "pygments_lexer": "ipython3",
   "version": "3.10.16"
  }
 },
 "nbformat": 4,
 "nbformat_minor": 5
}
